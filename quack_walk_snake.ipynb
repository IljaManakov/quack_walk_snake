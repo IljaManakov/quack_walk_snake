{
 "cells": [
  {
   "cell_type": "markdown",
   "id": "e825966a",
   "metadata": {
    "slideshow": {
     "slide_type": "slide"
    }
   },
   "source": [
    "# IF IT TALKS LIKE A DUCK...\n",
    "# ... AND WALKS LIKE A DUCK...\n",
    "# ...IT MIGHT BE A SNAKE!"
   ]
  },
  {
   "cell_type": "markdown",
   "id": "860e5137",
   "metadata": {},
   "source": [
    "A silly talk by Ilja Manakov"
   ]
  },
  {
   "cell_type": "markdown",
   "id": "05658464",
   "metadata": {
    "slideshow": {
     "slide_type": "slide"
    }
   },
   "source": [
    "I want to talk about a quirky feature of Python"
   ]
  },
  {
   "cell_type": "markdown",
   "id": "e487e335",
   "metadata": {},
   "source": [
    "But first let me tell you a story about a Duck"
   ]
  },
  {
   "cell_type": "code",
   "execution_count": 3,
   "id": "9c7080f8-9fc2-4696-a0d3-5f0802898b6d",
   "metadata": {
    "slideshow": {
     "slide_type": "slide"
    }
   },
   "outputs": [],
   "source": [
    "class Duck:\n",
    "    def walk(self):\n",
    "        print(\"Quack\")\n",
    "        \n",
    "    def talk(self):\n",
    "        print(\"Pat Pat Pat\")"
   ]
  },
  {
   "cell_type": "markdown",
   "id": "7c15a920",
   "metadata": {
    "slideshow": {
     "slide_type": "slide"
    }
   },
   "source": [
    "As you expect from it, our Duck can walk and talk:"
   ]
  },
  {
   "cell_type": "code",
   "execution_count": 4,
   "id": "3c23cfbc",
   "metadata": {},
   "outputs": [
    {
     "name": "stdout",
     "output_type": "stream",
     "text": [
      "Quack\n",
      "Pat Pat Pat\n"
     ]
    }
   ],
   "source": [
    "duck = Duck()\n",
    "duck.walk()\n",
    "duck.talk()"
   ]
  },
  {
   "cell_type": "markdown",
   "id": "b2e497c0",
   "metadata": {
    "slideshow": {
     "slide_type": "slide"
    }
   },
   "source": [
    "<center><figure>\n",
    "    <img src=\"https://external-content.duckduckgo.com/iu/?u=https%3A%2F%2Ftse1.mm.bing.net%2Fth%2Fid%2FOIP.6hqxFruW18lNHY77U7yL2gHaEK%3Fpid%3DApi&f=1&ipt=7ce6e051dfc0e91a252f6b5efd37b44cd4484ab967156cb85b8154b4e32718a0&ipo=images\">\n",
    "    <figcaption>Foreshadowing™</figcaption>\n",
    "</figure></center>"
   ]
  },
  {
   "cell_type": "code",
   "execution_count": 5,
   "id": "9fc378dc",
   "metadata": {},
   "outputs": [],
   "source": [
    "duck_id = id(duck)"
   ]
  },
  {
   "cell_type": "markdown",
   "id": "683b48b0",
   "metadata": {
    "slideshow": {
     "slide_type": "slide"
    }
   },
   "source": [
    "Oh no!"
   ]
  },
  {
   "cell_type": "code",
   "execution_count": 6,
   "id": "d5d9f080",
   "metadata": {},
   "outputs": [
    {
     "name": "stdout",
     "output_type": "stream",
     "text": [
      "A wild radioactive Python appears!\n",
      "It uses Bite!\n",
      "Duck got away safely?!\n"
     ]
    }
   ],
   "source": [
    "a_radioactive_python_appears(duck)"
   ]
  },
  {
   "cell_type": "markdown",
   "id": "028fc093",
   "metadata": {
    "slideshow": {
     "slide_type": "slide"
    }
   },
   "source": [
    "That was a shock! Thankfully nothing happened to the duck..."
   ]
  },
  {
   "cell_type": "code",
   "execution_count": 7,
   "id": "7e8862f6",
   "metadata": {},
   "outputs": [
    {
     "name": "stdout",
     "output_type": "stream",
     "text": [
      "Patsss Patssss Patsss\n",
      "Quaksss\n"
     ]
    }
   ],
   "source": [
    "duck.walk()\n",
    "duck.talk()"
   ]
  },
  {
   "cell_type": "markdown",
   "id": "bd3be919",
   "metadata": {
    "slideshow": {
     "slide_type": "fragment"
    }
   },
   "source": [
    " <center><figure>\n",
    "    <img src=\"https://external-content.duckduckgo.com/iu/?u=http%3A%2F%2Fi0.kym-cdn.com%2Fphotos%2Fimages%2Fnewsfeed%2F000%2F173%2F575%2F25810.jpg%3F1315930518&f=1&nofb=1&ipt=a449ed3e155d95e39d65d94aca4e23abc13a6d84eba2fe70105b3b8713b27c17\">\n",
    "</figure></center>"
   ]
  },
  {
   "cell_type": "markdown",
   "id": "7e0d96ad",
   "metadata": {
    "slideshow": {
     "slide_type": "slide"
    }
   },
   "source": [
    "Some might be thinking:\n",
    "\n",
    "*I know exactly what happened! You overwrote the methods by defining attributes on the instance.*"
   ]
  },
  {
   "cell_type": "code",
   "execution_count": 8,
   "id": "d8cf2c78",
   "metadata": {
    "slideshow": {
     "slide_type": "fragment"
    }
   },
   "outputs": [
    {
     "data": {
      "text/plain": [
       "{}"
      ]
     },
     "execution_count": 8,
     "metadata": {},
     "output_type": "execute_result"
    }
   ],
   "source": [
    "# Nope!\n",
    "vars(duck)"
   ]
  },
  {
   "cell_type": "code",
   "execution_count": 9,
   "id": "92a24139",
   "metadata": {
    "slideshow": {
     "slide_type": "fragment"
    }
   },
   "outputs": [
    {
     "data": {
      "text/plain": [
       "(__main__.SnakeDuck, True)"
      ]
     },
     "execution_count": 9,
     "metadata": {},
     "output_type": "execute_result"
    }
   ],
   "source": [
    "type(duck), id(duck) == duck_id"
   ]
  },
  {
   "cell_type": "code",
   "execution_count": 1,
   "id": "2f7f56f2",
   "metadata": {
    "slideshow": {
     "slide_type": "slide"
    }
   },
   "outputs": [],
   "source": [
    "def a_radioactive_python_appears(prey: object):\n",
    "    import time\n",
    "    delay = 1\n",
    "    cls_name = prey.__class__.__name__\n",
    "    bite(prey)\n",
    "    print(\"A wild radioactive Python appears!\")\n",
    "    time.sleep(delay)\n",
    "    print(\"It uses Bite!\")\n",
    "    time.sleep(delay)\n",
    "    print(f\"{cls_name} got away safely?!\")"
   ]
  },
  {
   "cell_type": "code",
   "execution_count": 2,
   "id": "0a9080c3",
   "metadata": {
    "slideshow": {
     "slide_type": "slide"
    }
   },
   "outputs": [],
   "source": [
    "def bite(obj: object):\n",
    "    base = obj.__class__\n",
    "    \n",
    "    Mutant = type(f\"Snake{base.__name__}\", (base,), {\n",
    "        \"talk\": lambda self: print(\"Quaksss\"),\n",
    "        \"walk\": lambda self: print(\"Patsss Patssss Patsss\"),\n",
    "    })\n",
    "    \n",
    "    obj.__class__ = Mutant"
   ]
  },
  {
   "cell_type": "markdown",
   "id": "0499e15b",
   "metadata": {
    "slideshow": {
     "slide_type": "slide"
    }
   },
   "source": [
    "All we can do now is put it into cryosleep\n",
    "\n",
    "until scientists figure out a cure."
   ]
  },
  {
   "cell_type": "code",
   "execution_count": null,
   "id": "6330c68a",
   "metadata": {
    "slideshow": {
     "slide_type": "-"
    }
   },
   "outputs": [],
   "source": [
    "import cryostasis\n",
    "cryostasis.freeze(duck)\n",
    "duck"
   ]
  },
  {
   "cell_type": "code",
   "execution_count": null,
   "id": "14d01d18",
   "metadata": {},
   "outputs": [],
   "source": [
    "duck.mutation = 9001"
   ]
  },
  {
   "cell_type": "markdown",
   "id": "23e5f3e5",
   "metadata": {
    "slideshow": {
     "slide_type": "slide"
    }
   },
   "source": [
    "Why would anyone ever use this?!\n",
    "\n",
    "**Tell me your use case**"
   ]
  }
 ],
 "metadata": {
  "celltoolbar": "Slideshow",
  "kernelspec": {
   "display_name": "Python 3 (ipykernel)",
   "language": "python",
   "name": "python3"
  },
  "language_info": {
   "codemirror_mode": {
    "name": "ipython",
    "version": 3
   },
   "file_extension": ".py",
   "mimetype": "text/x-python",
   "name": "python",
   "nbconvert_exporter": "python",
   "pygments_lexer": "ipython3",
   "version": "3.11.13"
  }
 },
 "nbformat": 4,
 "nbformat_minor": 5
}
